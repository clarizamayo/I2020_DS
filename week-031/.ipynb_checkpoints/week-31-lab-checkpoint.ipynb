{
 "cells": [
  {
   "cell_type": "markdown",
   "metadata": {},
   "source": [
    "<div style=\"background: #000;\n",
    "            color: #FFF;\n",
    "            margin: 0px;\n",
    "            margin-bottom: 10px;\n",
    "            padding: 10px 0px 20px 0px;\n",
    "            text-align: center; \">\n",
    "    <h1>Week 31 Lab</h1> \n",
    "</div>\n"
   ]
  },
  {
   "cell_type": "markdown",
   "metadata": {},
   "source": [
    "# Part 1 - Open Ended Questions\n",
    "\n",
    "### 1. What is dimensionality reduction? Why might we use it?"
   ]
  },
  {
   "cell_type": "markdown",
   "metadata": {},
   "source": [
    "Dimensionality Reduction trasnforms the origin data from high-dimensional space (and having too many features) to a low-dimensional space that will represent the most important properties of the original sample and that will improve the model accuracy and performance. "
   ]
  },
  {
   "cell_type": "markdown",
   "metadata": {},
   "source": [
    "### 2. What is Principal Component Analysis? In your own words."
   ]
  },
  {
   "cell_type": "markdown",
   "metadata": {},
   "source": [
    "PCA is a technique used in dimensionality reduction as a way to transform the original data using a unsupervised linear transformation. Once the transformation happens, then we will be able to choose which feautures have become redundant and practice dimensionality reduction on them. --> (what is the downside?)"
   ]
  },
  {
   "cell_type": "markdown",
   "metadata": {},
   "source": [
    "### 3. What is a perceptron? Explain how it works (conceptually). "
   ]
  },
  {
   "cell_type": "markdown",
   "metadata": {},
   "source": [
    "A perceptron is a linear binary classifier, similar to binary logistic regression. A peception consist of 4 parts: an input, weights and bias, net sum and an activation function. Weight shows the strenght of a particular node or input while bias allows you to shift the activation function curve up or down. The way it works is all the inputs (X) are multiplied with their weights. We then add all the multiplied values and get a weighted sum. Lastly, we pass the weighted sum though the activation function to see what output we get. This output can be 0 or 1. "
   ]
  },
  {
   "cell_type": "markdown",
   "metadata": {},
   "source": [
    "### 4. What is the `inertia_` attribute of a `KMeans` clustering object from sklearn? What is another name for it and what is it used to describe in K Means clustering? "
   ]
  },
  {
   "cell_type": "markdown",
   "metadata": {},
   "source": [
    "The word ‘clustering’ means grouping similar things together. The most commonly used clustering method is K-Means (because of it’s simplicity). The inertia atribute explains how similar the data are to the classes/clusters they are within. Low inertia means the clustering is good. The K in K-means deotes the number of clusters. \n",
    "\n",
    "Steps:\n",
    "- Initialize Cluster Centroids (Choose those 3 books to start with)\n",
    "- Assign datapoints to Clusters (Place remaining the books one by one)\n",
    "- Update Cluster centroids (Start over with 3 different books)\n",
    "- Repeat step 2–3 until the stopping condition is met.\n",
    "\n",
    "Example: Pick up 3 books, one for each shelf in order to set a theme for every shelf. These books will now dictate which of the remaining books will go in which shelf. Every time you pick a new book up from the stack, you would compare it with those first 3 books, and place this new book on the shelf that has similar books. You would repeat this process until all the books have been placed."
   ]
  },
  {
   "cell_type": "markdown",
   "metadata": {},
   "source": [
    "### 5. What is the difference between classification and clustering?"
   ]
  },
  {
   "cell_type": "markdown",
   "metadata": {},
   "source": [
    "Both classification and clustering help you to analyze and group your data however the way they do it is different. The main difference is that classification (being a supervised learning model) has predetermined categries it will group your data into while clustering (a unsupervised model) works by identifying similaries between objects and groups them according to these similarities and learning as it goes to find the best cluster. \n",
    "\n",
    "\n",
    "Add an example: \n",
    "\n",
    "- Classification: Constrain label\n",
    "- Clustering:"
   ]
  },
  {
   "cell_type": "markdown",
   "metadata": {},
   "source": [
    "### 6. What is the curse of dimensionality? Try to include both how it applies to dimensionality reduction and how it applies to model performance."
   ]
  },
  {
   "cell_type": "markdown",
   "metadata": {},
   "source": [
    "The curse of dimensionality refers to having an increase of error as the number of feautures incceases becase it makes it harder for the model to process any data and might take longer to perform. In order to balance out the curse of dimensionality, we perform dimensionality reduction. In order to do this, we will pass our data thorough PCA to transfor our data and decide which dimension we can safely reduce without compromising the original representation of our data. "
   ]
  },
  {
   "cell_type": "markdown",
   "metadata": {},
   "source": [
    "# Part 2 - Interview Questions"
   ]
  },
  {
   "cell_type": "markdown",
   "metadata": {},
   "source": [
    "### Exercise 1.\n",
    "\n",
    "```\n",
    "Table: Customers\n",
    "\n",
    "+---------------------+---------+\n",
    "| Column Name         | Type    |\n",
    "+---------------------+---------+\n",
    "| customer_id         | int     |\n",
    "| customer_name       | varchar |\n",
    "+---------------------+---------+\n",
    "customer_id is the primary key for this table.\n",
    "customer_name is the name of the customer.\n",
    "\n",
    " \n",
    "\n",
    "Table: Orders\n",
    "\n",
    "+---------------+---------+\n",
    "| Column Name   | Type    |\n",
    "+---------------+---------+\n",
    "| order_id      | int     |\n",
    "| customer_id   | int     |\n",
    "| product_name  | varchar |\n",
    "+---------------+---------+\n",
    "order_id is the primary key for this table.\n",
    "customer_id is the id of the customer who bought the product \"product_name\".\n",
    "```\n",
    "\n",
    "Write an SQL query to report the customer_id and customer_name of customers who bought products \"A\", \"B\" but did not buy the product \"C\" since we want to recommend them buy this product.\n",
    "\n",
    "Return the result table ordered by customer_id.\n",
    "\n",
    "The query result format is in the following example.\n",
    "\n",
    " \n",
    "```\n",
    "Customers table:\n",
    "+-------------+---------------+\n",
    "| customer_id | customer_name |\n",
    "+-------------+---------------+\n",
    "| 1           | Daniel        |\n",
    "| 2           | Diana         |\n",
    "| 3           | Elizabeth     |\n",
    "| 4           | Jhon          |\n",
    "+-------------+---------------+\n",
    "\n",
    "Orders table:\n",
    "+------------+--------------+---------------+\n",
    "| order_id   | customer_id  | product_name  |\n",
    "+------------+--------------+---------------+\n",
    "| 10         |     1        |     A         |\n",
    "| 20         |     1        |     B         |\n",
    "| 30         |     1        |     D         |\n",
    "| 40         |     1        |     C         |\n",
    "| 50         |     2        |     A         |\n",
    "| 60         |     3        |     A         |\n",
    "| 70         |     3        |     B         |\n",
    "| 80         |     3        |     D         |\n",
    "| 90         |     4        |     C         |\n",
    "+------------+--------------+---------------+\n",
    "\n",
    "Result table:\n",
    "+-------------+---------------+\n",
    "| customer_id | customer_name |\n",
    "+-------------+---------------+\n",
    "| 3           | Elizabeth     |\n",
    "+-------------+---------------+\n",
    "Only the customer_id with id 3 bought the product A and B but not the product C.\n",
    "```"
   ]
  },
  {
   "cell_type": "code",
   "execution_count": 1,
   "metadata": {},
   "outputs": [],
   "source": [
    "import sqlite3\n",
    "\n",
    "sql_commands = \\\n",
    "\"\"\"\n",
    "\n",
    "DROP TABLE IF EXISTS Customers;\n",
    "DROP TABLE IF EXISTS Orders;\n",
    "\n",
    "CREATE TABLE Customers (\n",
    " customer_id INTEGER NOT NULL PRIMARY KEY,\n",
    " customer_name NVARCHAR(30)\n",
    ");\n",
    "\n",
    "CREATE TABLE Orders (\n",
    " order_id INTEGER NOT NULL PRIMARY KEY,\n",
    " customer_id INTEGER NOT NULL,\n",
    " product_name VARCHAR(30)\n",
    ");\n",
    "\n",
    "INSERT INTO Customers (customer_id, customer_name ) VALUES ('1', 'Daniel');\n",
    "INSERT INTO Customers (customer_id, customer_name ) VALUES ('2', 'Diana');\n",
    "INSERT INTO Customers (customer_id, customer_name ) VALUES ('3', 'Elizabeth');\n",
    "INSERT INTO Customers (customer_id, customer_name ) VALUES ('4', 'Jhon');\n",
    "\n",
    "INSERT INTO Orders (order_id, customer_id, product_name) VALUES ('10', '1', 'A');\n",
    "INSERT INTO Orders (order_id, customer_id, product_name) VALUES ('20', '1', 'B');\n",
    "INSERT INTO Orders (order_id, customer_id, product_name) VALUES ('30', '1', 'D');\n",
    "INSERT INTO Orders (order_id, customer_id, product_name) VALUES ('40', '1', 'C');\n",
    "INSERT INTO Orders (order_id, customer_id, product_name) VALUES ('50', '2', 'A');\n",
    "INSERT INTO Orders (order_id, customer_id, product_name) VALUES ('60', '3', 'A');\n",
    "INSERT INTO Orders (order_id, customer_id, product_name) VALUES ('70', '3', 'B');\n",
    "INSERT INTO Orders (order_id, customer_id, product_name) VALUES ('80', '3', 'D');\n",
    "INSERT INTO Orders (order_id, customer_id, product_name) VALUES ('90', '4', 'C');\n",
    "\"\"\"\n",
    "\n",
    "db = sqlite3.connect('week-31-class.db')\n",
    "cursor = db.cursor()\n",
    "cursor.executescript(sql_commands)\n",
    "db.commit()\n",
    "db.close()"
   ]
  },
  {
   "cell_type": "code",
   "execution_count": 2,
   "metadata": {},
   "outputs": [],
   "source": [
    "# use this function for your answers.\n",
    "def with_conn(statement):\n",
    "    conn = sqlite3.connect('week-31-class.db')\n",
    "    with conn:\n",
    "        cur = conn.cursor()\n",
    "        cur.execute(statement)\n",
    "        result = cur.fetchall()\n",
    "        return result"
   ]
  },
  {
   "cell_type": "code",
   "execution_count": 3,
   "metadata": {},
   "outputs": [
    {
     "data": {
      "text/plain": [
       "[(1, 'Daniel'), (2, 'Diana'), (3, 'Elizabeth'), (4, 'Jhon')]"
      ]
     },
     "execution_count": 3,
     "metadata": {},
     "output_type": "execute_result"
    }
   ],
   "source": [
    "with_conn(\"SELECT * FROM Customers;\")"
   ]
  },
  {
   "cell_type": "code",
   "execution_count": 4,
   "metadata": {},
   "outputs": [
    {
     "data": {
      "text/plain": [
       "[(10, 1, 'A'),\n",
       " (20, 1, 'B'),\n",
       " (30, 1, 'D'),\n",
       " (40, 1, 'C'),\n",
       " (50, 2, 'A'),\n",
       " (60, 3, 'A'),\n",
       " (70, 3, 'B'),\n",
       " (80, 3, 'D'),\n",
       " (90, 4, 'C')]"
      ]
     },
     "execution_count": 4,
     "metadata": {},
     "output_type": "execute_result"
    }
   ],
   "source": [
    "with_conn(\"SELECT * FROM Orders;\")"
   ]
  },
  {
   "cell_type": "code",
   "execution_count": 45,
   "metadata": {},
   "outputs": [
    {
     "data": {
      "text/plain": [
       "[(3, 'Elizabeth')]"
      ]
     },
     "execution_count": 45,
     "metadata": {},
     "output_type": "execute_result"
    }
   ],
   "source": [
    "with_conn(\"SELECT customer_id, customer_name\\\n",
    "          FROM Customers \\\n",
    "          WHERE customer_id IN \\\n",
    "              (SELECT customer_id \\\n",
    "              FROM Orders \\\n",
    "              WHERE product_name='A') \\\n",
    "         AND customer_id IN \\\n",
    "             (SELECT customer_id \\\n",
    "              FROM Orders \\\n",
    "              WHERE product_name='B') \\\n",
    "         AND customer_id NOT IN \\\n",
    "             (SELECT customer_id \\\n",
    "              FROM Orders \\\n",
    "              WHERE product_name='C')\")"
   ]
  },
  {
   "cell_type": "code",
   "execution_count": 47,
   "metadata": {},
   "outputs": [],
   "source": [
    "# with_conn(\"SELECT c.customer_id,c.customer_name, o.product_name\\\n",
    "# FROM Customers c, Orders o WHERE o.customer_id=c.customer_id\")"
   ]
  },
  {
   "cell_type": "code",
   "execution_count": 46,
   "metadata": {},
   "outputs": [],
   "source": [
    "# with_conn(\"SELECT customer_id,customer_name WHERE o.product_name= 'A' AND 'B' In \\\n",
    "#           (SELECT c.customer_id,c.customer_name, o.product_name \\\n",
    "#           FROM Customers c, Orders o WHERE o.customer_id=c.customer_id)\")"
   ]
  },
  {
   "cell_type": "markdown",
   "metadata": {},
   "source": [
    "# Part 3 - Work on your ongoing django project\n",
    "\n",
    "Your project should have some models defined. Now you'll add a form that saves data entered to your models.\n",
    "\n",
    "To complete this section:\n",
    "* Create a model or update your models so you have one you'd like to use for your form\n",
    "* Create a form using `ModelForm` in your `<app>/forms.py` file.\n",
    "* Create or edit a view so that it uses that form (displaying it for `GET` requests or saving the data for a `POST` request if the form is valid.\n",
    "* Updating/creating a template that displays that page and the form.\n",
    "* Push these changes as a commit to your github repository.\n"
   ]
  },
  {
   "cell_type": "markdown",
   "metadata": {},
   "source": [
    "# Part 4 - Work on your final project\n",
    "\n",
    "You should have a topic chosen, datasets gathered and a plan for your database. Begin storing your data or putting together your database with the correct tables. \n",
    "\n",
    "There is no definitive deliverable but you should, at this point, have some of the following:\n",
    "* datasets you've gathered\n",
    "* initial exploratory data analysis in jupyter notebooks\n",
    "* an sqlite database containing your data and a python script for setting up your tables (you can use the python code we use for class problems as the basis of your script).\n",
    "* at least a text/markdown file including your research goal, steps documenting your process and including any notes you might have.\n",
    "\n",
    "If you are still stuck on your topic, data, or any other issue, this is your time to figure it out. Speak to teaching staff if you have any issues/concerns/questions. \n",
    "\n",
    "To complete this section:\n",
    "* Add the changes to your git repo\n",
    "* Submit as part of this lab the status and current progress being made towards your project. "
   ]
  },
  {
   "cell_type": "markdown",
   "metadata": {},
   "source": [
    "# Part 5 - Watch Statquest video on PCA.\n",
    "\n",
    "https://www.youtube.com/watch?v=_UVHneBUBW0"
   ]
  },
  {
   "cell_type": "markdown",
   "metadata": {},
   "source": [
    "### Notes:\n",
    "\n",
    "- The general idea is that cells with similar transcription should cluster\n",
    "- PCA is a method for compressing a lot of data into something that captures the essence of the original data.\n",
    "- Main question: are all those dimensions super important? Or are some more important than others  "
   ]
  },
  {
   "cell_type": "markdown",
   "metadata": {},
   "source": [
    "# Bonus\n",
    "\n",
    "In the cell below, write the code that performs a K Means clustering on the NIST Digits dataset from yesterday. Feel free to use the code samples from yesterday."
   ]
  },
  {
   "cell_type": "code",
   "execution_count": null,
   "metadata": {},
   "outputs": [],
   "source": []
  }
 ],
 "metadata": {
  "kernelspec": {
   "display_name": "Python 3",
   "language": "python",
   "name": "python3"
  },
  "language_info": {
   "codemirror_mode": {
    "name": "ipython",
    "version": 3
   },
   "file_extension": ".py",
   "mimetype": "text/x-python",
   "name": "python",
   "nbconvert_exporter": "python",
   "pygments_lexer": "ipython3",
   "version": "3.8.3"
  }
 },
 "nbformat": 4,
 "nbformat_minor": 5
}
