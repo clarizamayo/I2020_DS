{
 "cells": [
  {
   "cell_type": "markdown",
   "metadata": {},
   "source": [
    "<div style=\"background: #000;\n",
    "            color: #FFF;\n",
    "            margin: 0px;\n",
    "            margin-bottom: 10px;\n",
    "            padding: 10px 0px 20px 0px;\n",
    "            text-align: center; \n",
    "                \">\n",
    "    <h1>Week 33 Lab</h1> \n",
    "    <h3>05/19/21</h3>\n",
    "</div>\n",
    "\n",
    "# Exercise 1\n",
    "\n",
    "Make your own, very simple, package in python and use it in a `main.py` file like we did above. When completed, push it to github and then paste the link to your git repo containing the code below."
   ]
  },
  {
   "cell_type": "raw",
   "metadata": {},
   "source": [
    "https://github.com/clarizamayo/Example_Module"
   ]
  },
  {
   "cell_type": "markdown",
   "metadata": {},
   "source": [
    "# Exercise 2\n",
    "\n",
    "Create a function that takes an argument `file` (string that contains filename) and `dct` (dictionary) and writes each key/value pair in the dictionary in the following format:\n",
    "```\n",
    "key1:value1\n",
    "key2:value2\n",
    "```\n"
   ]
  },
  {
   "cell_type": "code",
   "execution_count": null,
   "metadata": {},
   "outputs": [],
   "source": [
    "def dictionary_to_file(file, dct):\n",
    "    with open(file,'w') as log:\n",
    "        for key,value in dct.items():\n",
    "            log.write('{}:{}\\n'.format(key,value))\n",
    "\n",
    "dictionary_to_file('text.txt', {'key1':'value1', 'key2':'value2'})"
   ]
  },
  {
   "cell_type": "markdown",
   "metadata": {},
   "source": [
    "# Exercise 3\n",
    "\n",
    "Create a queue from scratch (use a list; do not use `Queue`, `Deque` or any library)."
   ]
  },
  {
   "cell_type": "code",
   "execution_count": null,
   "metadata": {},
   "outputs": [],
   "source": [
    "class Queue:\n",
    "    '''\n",
    "     Implementing a queue class: FIFO (first in, first out) structure\n",
    "    '''\n",
    "    def __init__(self,lst =[]):\n",
    "        self.lst = lst\n",
    "    \n",
    "    def add(self,val):\n",
    "        self.lst.append(val)\n",
    "        print(f'{val} added to queue')\n",
    "        \n",
    "    def pop(self,val):\n",
    "        if len(self.lst)>0:\n",
    "            pop = self.lst.pop(0)\n",
    "            print(f'{pop} removed from queue')\n",
    "        else:\n",
    "            print(\"Queue's empty, can't pop values\")\n",
    "        \n",
    "    def first_item(self):\n",
    "        if len(self.lst)>0:\n",
    "            first = self.lst[0]\n",
    "            print(f'the first item in the queue is {first}')\n",
    "        \n",
    "    def iterate(self):\n",
    "        print('The items in the queue are')\n",
    "        for item in self.lst:\n",
    "            print(item)\n",
    "            \n",
    "queue = Queue()\n",
    "queue.pop(5)\n",
    "queue.add(2)\n",
    "queue.add(4)\n",
    "queue.add(5)\n",
    "queue.first_item()\n",
    "print('\\n')\n",
    "queue.iterate()\n",
    "queue.pop(5)"
   ]
  },
  {
   "cell_type": "markdown",
   "metadata": {},
   "source": [
    "# Exercise 4\n",
    "\n",
    "Create a function that performs a binary search on a list."
   ]
  },
  {
   "cell_type": "code",
   "execution_count": 6,
   "metadata": {},
   "outputs": [],
   "source": [
    "#Figure out why this one doesn't work\n",
    "# def binary_search(lst, val):\n",
    "#     minimum = 0\n",
    "#     maximum = len(lst) - 1\n",
    "#     mid_ind = (minimum+maximum)//2\n",
    "#     while minimum < maximum:\n",
    "#         if lst[mid_ind] == val:\n",
    "#             return mid_ind\n",
    "#         elif lst[mid_ind] < val:\n",
    "#             print(mid_ind)\n",
    "#             return mid_ind + 1 + binary_search(lst[mid_ind+1:], val) \n",
    "#         else:\n",
    "#             return binary_search(lst[:mid_ind],val)\n",
    "    \n",
    "# #     elif (lst[avg] < target):\n",
    "# #       return avg + 1 + search(lst[avg+1:], target)\n",
    "# #     else:\n",
    "# #       return search(lst[:avg], target)\n",
    "    \n",
    "# binary_search([1,2,3,4,5,6], 6)\n"
   ]
  },
  {
   "cell_type": "code",
   "execution_count": 7,
   "metadata": {},
   "outputs": [
    {
     "data": {
      "text/plain": [
       "5"
      ]
     },
     "execution_count": 7,
     "metadata": {},
     "output_type": "execute_result"
    }
   ],
   "source": [
    "#But this one does\n",
    "def search(lst, target):\n",
    "    min = 0\n",
    "    max = len(lst)-1\n",
    "    avg = (min+max)//2\n",
    "  # uncomment next line for traces\n",
    "  # print lst, target, avg  \n",
    "    while (min < max):\n",
    "        if (lst[avg] == target):\n",
    "            return avg\n",
    "        elif (lst[avg] < target):\n",
    "            return avg + 1 + search(lst[avg+1:], target)\n",
    "        else:\n",
    "            return search(lst[:avg], target)\n",
    "\n",
    "  # avg may be a partial offset so no need to print it here\n",
    "  # print \"The location of the number in the array is\", avg \n",
    "    return avg\n",
    "\n",
    "search([1,2,3,4,5,6], 6)"
   ]
  },
  {
   "cell_type": "markdown",
   "metadata": {},
   "source": [
    "# Exercise 5\n",
    "\n",
    "Create a function that takes one argument `url` and returns all the links (`<a>` tags) located on the page."
   ]
  },
  {
   "cell_type": "code",
   "execution_count": null,
   "metadata": {},
   "outputs": [],
   "source": [
    "def scrape_links(url):\n",
    "    pass"
   ]
  },
  {
   "cell_type": "markdown",
   "metadata": {},
   "source": [
    "# Exercise 6\n",
    "\n",
    "Create a generator function that takes an argument `n` (total number of squares to generator) returns the next square each time it yields a value. Demonstrate that it works."
   ]
  },
  {
   "cell_type": "code",
   "execution_count": null,
   "metadata": {},
   "outputs": [],
   "source": [
    "def square_generator(n):\n",
    "    pass\n",
    "        \n",
    "gen = func()"
   ]
  },
  {
   "cell_type": "code",
   "execution_count": null,
   "metadata": {},
   "outputs": [],
   "source": []
  },
  {
   "cell_type": "markdown",
   "metadata": {},
   "source": [
    "# Exercise 7\n",
    "\n",
    "Look up a standard library module you've never used. Create a function that utilizes that library."
   ]
  },
  {
   "cell_type": "code",
   "execution_count": null,
   "metadata": {},
   "outputs": [],
   "source": [
    "#import \n",
    "\n",
    "def func():\n",
    "    pass"
   ]
  },
  {
   "cell_type": "markdown",
   "metadata": {},
   "source": [
    "# Exercise 8\n",
    "\n",
    "Create a binary tree from scratch. It must have two methods, one that prints the tree and another that allows inserting. Inserting into this binary tree can be done using the method we covered in class (adding it to the left or right of nodes depending on comparisons)."
   ]
  },
  {
   "cell_type": "code",
   "execution_count": null,
   "metadata": {},
   "outputs": [],
   "source": []
  },
  {
   "cell_type": "markdown",
   "metadata": {},
   "source": [
    "# Exercise 9\n",
    "\n",
    "Create a decorator function that times a function call. Use it to time the function below."
   ]
  },
  {
   "cell_type": "code",
   "execution_count": null,
   "metadata": {},
   "outputs": [],
   "source": [
    "def func(n):\n",
    "    return (n**2)\n",
    "\n",
    "func(100_000)"
   ]
  },
  {
   "cell_type": "markdown",
   "metadata": {},
   "source": [
    "# Exercise 10\n",
    "\n",
    "Show an example of currying functions: two regular functions and a third that uses the previous two."
   ]
  },
  {
   "cell_type": "code",
   "execution_count": null,
   "metadata": {},
   "outputs": [],
   "source": []
  },
  {
   "cell_type": "markdown",
   "metadata": {},
   "source": [
    "# Exercise 11\n",
    "\n",
    "What is a downside to functional programming? Explain your answer.\n",
    "\n",
    "If this question is difficult, consider what we can do with methods of a class that isn't easily possible with functions."
   ]
  },
  {
   "cell_type": "markdown",
   "metadata": {},
   "source": []
  },
  {
   "cell_type": "markdown",
   "metadata": {},
   "source": [
    "# Exercise 12\n",
    "\n",
    "Explain how `staticmethod` works and when we should use it."
   ]
  },
  {
   "cell_type": "code",
   "execution_count": null,
   "metadata": {},
   "outputs": [],
   "source": []
  },
  {
   "cell_type": "markdown",
   "metadata": {},
   "source": [
    "# Exercise 13\n",
    "\n",
    "Your boss has tasked you with making a simple bokeh dashboard to display some data. What python web framework would you use and why? What are the limitations of that framework? What does it provide as benefits? Explain your thought process."
   ]
  },
  {
   "cell_type": "code",
   "execution_count": null,
   "metadata": {},
   "outputs": [],
   "source": []
  },
  {
   "cell_type": "markdown",
   "metadata": {},
   "source": [
    "# Exercise 14\n",
    "\n",
    "What would be a reason to not use python for a project?"
   ]
  },
  {
   "cell_type": "code",
   "execution_count": null,
   "metadata": {},
   "outputs": [],
   "source": []
  },
  {
   "cell_type": "markdown",
   "metadata": {},
   "source": [
    "# Exercise 15\n",
    "\n",
    "You are tasked with building a data pipeline that scrapes data, stores it in sql, processes it in numpy/pandas (think exploratory analysis and data cleanup) and uses the data in a K-Means clustering. Write out the steps you would take to complete this task, what the structure of your project would look like and what considerations should be made (e.g. what might become an issue, what decisions must we make, what steps would need to be done first, etc). \n",
    "\n"
   ]
  },
  {
   "cell_type": "code",
   "execution_count": null,
   "metadata": {},
   "outputs": [],
   "source": []
  }
 ],
 "metadata": {
  "kernelspec": {
   "display_name": "Python 3",
   "language": "python",
   "name": "python3"
  },
  "language_info": {
   "codemirror_mode": {
    "name": "ipython",
    "version": 3
   },
   "file_extension": ".py",
   "mimetype": "text/x-python",
   "name": "python",
   "nbconvert_exporter": "python",
   "pygments_lexer": "ipython3",
   "version": "3.8.3"
  }
 },
 "nbformat": 4,
 "nbformat_minor": 5
}
