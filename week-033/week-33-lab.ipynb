{
 "cells": [
  {
   "cell_type": "markdown",
   "metadata": {},
   "source": [
    "<div style=\"background: #000;\n",
    "            color: #FFF;\n",
    "            margin: 0px;\n",
    "            margin-bottom: 10px;\n",
    "            padding: 10px 0px 20px 0px;\n",
    "            text-align: center; \n",
    "                \">\n",
    "    <h1>Week 33 Lab</h1> \n",
    "    <h3>05/19/21</h3>\n",
    "</div>\n",
    "\n",
    "# Exercise 1\n",
    "\n",
    "Make your own, very simple, package in python and use it in a `main.py` file like we did above. When completed, push it to github and then paste the link to your git repo containing the code below."
   ]
  },
  {
   "cell_type": "raw",
   "metadata": {},
   "source": [
    "https://github.com/clarizamayo/Example_Module"
   ]
  },
  {
   "cell_type": "markdown",
   "metadata": {},
   "source": [
    "# Exercise 2\n",
    "\n",
    "Create a function that takes an argument `file` (string that contains filename) and `dct` (dictionary) and writes each key/value pair in the dictionary in the following format:\n",
    "```\n",
    "key1:value1\n",
    "key2:value2\n",
    "```\n"
   ]
  },
  {
   "cell_type": "code",
   "execution_count": 48,
   "metadata": {},
   "outputs": [],
   "source": [
    "def dictionary_to_file(file, dct):\n",
    "    with open(file,'w') as log:\n",
    "        for key,value in dct.items():\n",
    "            log.write('{}:{}\\n'.format(key,value))\n",
    "\n",
    "dictionary_to_file('text.txt', {1:'value1', 2:'value2'})"
   ]
  },
  {
   "cell_type": "markdown",
   "metadata": {},
   "source": [
    "# Exercise 3\n",
    "\n",
    "Create a queue from scratch (use a list; do not use `Queue`, `Deque` or any library)."
   ]
  },
  {
   "cell_type": "code",
   "execution_count": 2,
   "metadata": {},
   "outputs": [
    {
     "name": "stdout",
     "output_type": "stream",
     "text": [
      "Queue's empty, can't pop values\n",
      "2 added to queue\n",
      "4 added to queue\n",
      "5 added to queue\n",
      "the first item in the queue is 2\n",
      "\n",
      "\n",
      "The items in the queue are\n",
      "2\n",
      "4\n",
      "5\n",
      "2 removed from queue\n"
     ]
    }
   ],
   "source": [
    "class Queue:\n",
    "    '''\n",
    "     Implementing a queue class: FIFO (first in, first out) structure\n",
    "    '''\n",
    "    def __init__(self,lst =[]):\n",
    "        self.lst = lst\n",
    "    \n",
    "    def add(self,val):\n",
    "        self.lst.append(val)\n",
    "        print(f'{val} added to queue')\n",
    "        \n",
    "    def pop(self,val):\n",
    "        if len(self.lst)>0:\n",
    "            pop = self.lst.pop(0)\n",
    "            print(f'{pop} removed from queue')\n",
    "        else:\n",
    "            print(\"Queue's empty, can't pop values\")\n",
    "        \n",
    "    def first_item(self):\n",
    "        if len(self.lst)>0:\n",
    "            first = self.lst[0]\n",
    "            print(f'the first item in the queue is {first}')\n",
    "        \n",
    "    def iterate(self):\n",
    "        print('The items in the queue are')\n",
    "        for item in self.lst:\n",
    "            print(item)\n",
    "            \n",
    "queue = Queue()\n",
    "queue.pop(5)\n",
    "queue.add(2)\n",
    "queue.add(4)\n",
    "queue.add(5)\n",
    "queue.first_item()\n",
    "print('\\n')\n",
    "queue.iterate()\n",
    "queue.pop(5)"
   ]
  },
  {
   "cell_type": "markdown",
   "metadata": {},
   "source": [
    "# Exercise 4\n",
    "\n",
    "Create a function that performs a binary search on a list."
   ]
  },
  {
   "cell_type": "code",
   "execution_count": 16,
   "metadata": {},
   "outputs": [
    {
     "data": {
      "text/plain": [
       "5"
      ]
     },
     "execution_count": 16,
     "metadata": {},
     "output_type": "execute_result"
    }
   ],
   "source": [
    "#Figure out why this one doesn't work\n",
    "def binary_search(lst, val):\n",
    "    minimum = 0\n",
    "    maximum = len(lst) - 1\n",
    "    mid_ind = (minimum+maximum)//2\n",
    "    while minimum < maximum:\n",
    "        if lst[mid_ind] == val:\n",
    "            return mid_ind\n",
    "        elif lst[mid_ind] < val:\n",
    "            return mid_ind + 1 + binary_search(lst[mid_ind+1:], val) \n",
    "        else:\n",
    "            return binary_search(lst[:mid_ind],val)\n",
    "    return mid_ind\n",
    "\n",
    "binary_search([1,2,3,4,5,6], 6)\n"
   ]
  },
  {
   "cell_type": "code",
   "execution_count": 14,
   "metadata": {},
   "outputs": [
    {
     "data": {
      "text/plain": [
       "5"
      ]
     },
     "execution_count": 14,
     "metadata": {},
     "output_type": "execute_result"
    }
   ],
   "source": [
    "#But this one does\n",
    "def search(lst, target):\n",
    "    min = 0\n",
    "    max = len(lst)-1\n",
    "    avg = (min+max)//2\n",
    "  # uncomment next line for traces\n",
    "  # print lst, target, avg  \n",
    "    while (min < max):\n",
    "        if (lst[avg] == target):\n",
    "            return avg\n",
    "        elif (lst[avg] < target):\n",
    "            return avg + 1 + search(lst[avg+1:], target)\n",
    "        else:\n",
    "            return search(lst[:avg], target)\n",
    "\n",
    "  # avg may be a partial offset so no need to print it here\n",
    "  # print \"The location of the number in the array is\", avg \n",
    "    return avg\n",
    "\n",
    "search([1,2,3,4,5,6], 6)"
   ]
  },
  {
   "cell_type": "markdown",
   "metadata": {},
   "source": [
    "# Exercise 5\n",
    "\n",
    "Create a function that takes one argument `url` and returns all the links (`<a>` tags) located on the page."
   ]
  },
  {
   "cell_type": "code",
   "execution_count": 7,
   "metadata": {},
   "outputs": [],
   "source": [
    "import requests\n",
    "from bs4 import BeautifulSoup\n",
    "\n",
    "url = 'https://www.apple.com/'"
   ]
  },
  {
   "cell_type": "code",
   "execution_count": 13,
   "metadata": {},
   "outputs": [
    {
     "name": "stdout",
     "output_type": "stream",
     "text": [
      "There are 136 a tags in the https://www.apple.com/ link\n"
     ]
    },
    {
     "data": {
      "text/plain": [
       "[<a class=\"ac-gn-menuanchor ac-gn-menuanchor-open\" href=\"#ac-gn-menustate\" id=\"ac-gn-menuanchor-open\" role=\"button\">\n",
       " <span class=\"ac-gn-menuanchor-label\">Global Nav Open Menu</span>\n",
       " </a>,\n",
       " <a class=\"ac-gn-menuanchor ac-gn-menuanchor-close\" href=\"#\" id=\"ac-gn-menuanchor-close\" role=\"button\">\n",
       " <span class=\"ac-gn-menuanchor-label\">Global Nav Close Menu</span>\n",
       " </a>,\n",
       " <a class=\"ac-gn-link ac-gn-link-apple\" data-analytics-title=\"apple home\" href=\"/\" id=\"ac-gn-firstfocus-small\">\n",
       " <span class=\"ac-gn-link-text\">Apple</span>\n",
       " </a>,\n",
       " <a aria-label=\"Shopping Bag\" class=\"ac-gn-link ac-gn-link-bag\" data-analytics-click=\"bag\" data-analytics-title=\"bag\" data-string-badge=\"Shopping Bag with item count :\" href=\"/us/shop/goto/bag\">\n",
       " <span class=\"ac-gn-link-text\">Shopping Bag</span>\n",
       " </a>,\n",
       " <a aria-label=\"Search apple.com\" class=\"ac-gn-link\" data-analytics-click=\"search\" data-analytics-intrapage-link=\"\" data-analytics-title=\"search\" href=\"/us/search\" id=\"ac-gn-link-search-small\">\n",
       " <div class=\"ac-gn-search-placeholder-bar\">\n",
       " <div class=\"ac-gn-search-placeholder-input\">\n",
       " <div aria-hidden=\"true\" class=\"ac-gn-search-placeholder-input-text\">\n",
       " <div class=\"ac-gn-link-search ac-gn-search-placeholder-input-icon\"></div>\n",
       " <span class=\"ac-gn-search-placeholder\">Search apple.com</span>\n",
       " </div>\n",
       " </div>\n",
       " <div class=\"ac-gn-searchview-close ac-gn-searchview-close-small ac-gn-search-placeholder-searchview-close\">\n",
       " <span aria-hidden=\"true\" class=\"ac-gn-searchview-close-cancel\">Cancel</span>\n",
       " </div>\n",
       " </div>\n",
       " </a>,\n",
       " <a class=\"ac-gn-link ac-gn-link-apple\" data-analytics-title=\"apple home\" href=\"/\" id=\"ac-gn-firstfocus\">\n",
       " <span class=\"ac-gn-link-text\">Apple</span>\n",
       " </a>,\n",
       " <a class=\"ac-gn-link ac-gn-link-mac\" data-analytics-title=\"mac\" href=\"/mac/\">\n",
       " <span class=\"ac-gn-link-text\">Mac</span>\n",
       " </a>,\n",
       " <a class=\"ac-gn-link ac-gn-link-ipad\" data-analytics-title=\"ipad\" href=\"/ipad/\">\n",
       " <span class=\"ac-gn-link-text\">iPad</span>\n",
       " </a>,\n",
       " <a class=\"ac-gn-link ac-gn-link-iphone\" data-analytics-title=\"iphone\" href=\"/iphone/\">\n",
       " <span class=\"ac-gn-link-text\">iPhone</span>\n",
       " </a>,\n",
       " <a class=\"ac-gn-link ac-gn-link-watch\" data-analytics-title=\"watch\" href=\"/watch/\">\n",
       " <span class=\"ac-gn-link-text\">Watch</span>\n",
       " </a>,\n",
       " <a class=\"ac-gn-link ac-gn-link-tv\" data-analytics-title=\"tv\" href=\"/tv/\">\n",
       " <span class=\"ac-gn-link-text\">TV</span>\n",
       " </a>,\n",
       " <a class=\"ac-gn-link ac-gn-link-music\" data-analytics-title=\"music\" href=\"/music/\">\n",
       " <span class=\"ac-gn-link-text\">Music</span>\n",
       " </a>,\n",
       " <a class=\"ac-gn-link ac-gn-link-support\" data-analytics-title=\"support\" href=\"https://support.apple.com\">\n",
       " <span class=\"ac-gn-link-text\">Support</span>\n",
       " </a>,\n",
       " <a aria-label=\"Search apple.com\" class=\"ac-gn-link ac-gn-link-search\" data-analytics-click=\"search\" data-analytics-intrapage-link=\"\" data-analytics-title=\"search\" href=\"/us/search\" id=\"ac-gn-link-search\"></a>,\n",
       " <a aria-label=\"Shopping Bag\" class=\"ac-gn-link ac-gn-link-bag\" data-analytics-click=\"bag\" data-analytics-title=\"bag\" data-string-badge=\"Shopping Bag with item count : {%BAGITEMCOUNT%}\" href=\"/us/shop/goto/bag\">\n",
       " <span class=\"ac-gn-link-text\">Shopping Bag</span>\n",
       " </a>,\n",
       " <a data-analytics-title=\"shop online - control\" href=\"/us/shop/goto/shop\" target=\"_self\">Shop online</a>,\n",
       " <a class=\"ac-gf-buystrip-info-cta ac-gf-buystrip-info-cta-chat ac-gf-more\" data-analytics-exit-link=\"\" data-analytics-title=\"shop with a specialist - desktop\" href=\"https://contactretail.apple.com/?c=us&amp;l=en&amp;ap=COM&amp;pg=COM:homepage_ribbon-desktop&amp;ag=FASTPASS\">Shop with a Specialist</a>,\n",
       " <a data-analytics-title=\"shop online - desktop\" href=\"/us/shop/goto/shop\" target=\"_self\">Apple Store Online</a>,\n",
       " <a data-analytics-exit-link=\"\" data-analytics-title=\"shop with a specialist - mobile\" href=\"https://contactretail.apple.com/?c=us&amp;l=en&amp;ap=COM&amp;pg=COM:homepage_ribbon-mobile&amp;ag=FASTPASS\" target=\"chat\">Shop with a Specialist</a>,\n",
       " <a data-analytics-title=\"shop online - mobile\" href=\"/us/shop/goto/shop\" target=\"_self\">Apple Store Online</a>,\n",
       " <a class=\"unit-link\" data-analytics-region=\"learn more\" href=\"/ipad-pro/\" rel=\"follow\" target=\"_self\"> </a>,\n",
       " <a aria-label=\"Learn more about iPad Pro\" class=\"icon icon-after icon-chevronright\" data-analytics-region=\"learn more\" data-analytics-title=\"Learn more about iPad Pro\" href=\"/ipad-pro/\" rel=\"follow\" target=\"_self\">Learn more</a>,\n",
       " <a aria-label=\"Buy iPad Pro\" class=\"icon icon-after icon-chevronright\" data-analytics-region=\"buy\" data-analytics-title=\"Buy iPad Pro\" href=\"/us/shop/goto/ipad_pro/select\" rel=\"follow\" target=\"_self\">Buy</a>,\n",
       " <a aria-hidden=\"true\" class=\"unit-link control\" data-analytics-region=\"learn more\" href=\"/iphone-12/\" rel=\"follow\" tabindex=\"-1\" target=\"_self\"> </a>,\n",
       " <a aria-hidden=\"true\" class=\"unit-link variant-a\" data-analytics-region=\"learn more\" href=\"/iphone-12/key-features/\" rel=\"follow\" tabindex=\"-1\" target=\"_self\"> </a>,\n",
       " <a class=\"footnote\" href=\"#footnote-1\">1</a>,\n",
       " <a aria-label=\"Learn more about iPhone 12\" class=\"icon icon-after icon-chevronright control\" data-analytics-region=\"learn more\" data-analytics-title=\"Learn more about iPhone 12\" href=\"/iphone-12/\" rel=\"follow\" target=\"_self\">Learn more</a>,\n",
       " <a aria-label=\"Learn more about iPhone 12\" class=\"icon icon-after icon-chevronright variant-a\" data-analytics-region=\"learn more\" data-analytics-title=\"Learn more about iPhone 12\" href=\"/iphone-12/key-features/\" rel=\"follow\" target=\"_self\">Learn more</a>,\n",
       " <a aria-label=\"Buy iPhone 12\" class=\"icon icon-after icon-chevronright\" data-analytics-region=\"buy\" data-analytics-title=\"Buy iPhone 12\" href=\"/us/shop/goto/buy_iphone/iphone_12\" rel=\"follow\" target=\"_self\">Buy</a>,\n",
       " <a class=\"unit-link\" data-analytics-region=\"learn more\" href=\"/imac-24/\" rel=\"follow\" target=\"_self\"> </a>,\n",
       " <a aria-label=\"Learn more about iMac\" class=\"icon icon-after icon-chevronright\" data-analytics-region=\"learn more\" data-analytics-title=\"Learn more about iMac\" href=\"/imac-24/\" rel=\"follow\" target=\"_self\">Learn more</a>,\n",
       " <a aria-label=\"Buy iMac\" class=\"icon icon-after icon-chevronright\" data-analytics-region=\"buy\" data-analytics-title=\"Buy iMac\" href=\"/us/shop/goto/imac\" rel=\"follow\" target=\"_self\">Buy</a>,\n",
       " <a class=\"unit-link\" data-analytics-region=\"learn more\" href=\"/privacy/\" rel=\"follow\" target=\"_self\"> </a>,\n",
       " <a aria-label=\"Learn more about Privacy\" class=\"icon icon-after icon-chevronright\" data-analytics-region=\"learn more\" data-analytics-title=\"Learn more about Privacy\" href=\"/privacy/\" rel=\"follow\" target=\"_self\">Learn more</a>,\n",
       " <a class=\"unit-link\" data-analytics-region=\"learn more\" href=\"/apple-watch-series-6/\" rel=\"follow\" target=\"_self\"> </a>,\n",
       " <a aria-label=\"Learn more about Apple Watch Series 6\" class=\"icon icon-after icon-chevronright\" data-analytics-region=\"learn more\" data-analytics-title=\"Learn more about Apple Watch Series 6\" href=\"/apple-watch-series-6/\" rel=\"follow\" target=\"_self\">Learn more</a>,\n",
       " <a aria-label=\"Buy Apple Watch Series 6\" class=\"icon icon-after icon-chevronright\" data-analytics-region=\"buy\" data-analytics-title=\"Buy Apple Watch Series 6\" href=\"/us/shop/goto/apple_watch\" rel=\"follow\" target=\"_self\">Buy</a>,\n",
       " <a class=\"unit-link\" data-analytics-region=\"learn more\" href=\"/apple-tv-4k/\" rel=\"follow\" target=\"_self\"> </a>,\n",
       " <a aria-label=\"Learn more about Apple TV 4K\" class=\"icon icon-after icon-chevronright\" data-analytics-region=\"learn more\" data-analytics-title=\"Learn more about Apple TV 4K\" href=\"/apple-tv-4k/\" rel=\"follow\" target=\"_self\">Learn more</a>,\n",
       " <a aria-label=\"Buy Apple TV 4K\" class=\"icon icon-after icon-chevronright\" data-analytics-region=\"buy\" data-analytics-title=\"Buy Apple TV 4K\" href=\"/us/shop/goto/buy_tv/apple_tv_4k\" rel=\"follow\" target=\"_self\">Buy</a>,\n",
       " <a class=\"unit-link\" data-analytics-region=\"learn more\" href=\"/mac/why-mac/\" rel=\"follow\" target=\"_self\"> </a>,\n",
       " <a aria-label=\"Learn more about Mac\" class=\"icon icon-after icon-chevronright\" data-analytics-region=\"learn more\" data-analytics-title=\"Learn more about Mac\" href=\"/mac/why-mac/\" rel=\"follow\" target=\"_self\">Learn more</a>,\n",
       " <a aria-hidden=\"true\" class=\"unit-link\" data-analytics-region=\"learn more\" href=\"/us/shop/goto/trade_in\" rel=\"follow\" tabindex=\"-1\" target=\"_self\"> </a>,\n",
       " <a class=\"footnote\" href=\"#footnote-2\">2</a>,\n",
       " <a aria-label=\"Learn more about Apple Trade In\" class=\"icon icon-after icon-chevronright\" data-analytics-region=\"learn more\" data-analytics-title=\"Learn more about Apple Trade In\" href=\"/us/shop/goto/trade_in\" rel=\"follow\" target=\"_self\">Learn more</a>,\n",
       " <a class=\"unit-link\" data-analytics-exit-link=\"\" data-analytics-region=\"learn more\" data-rid-relay='{\"289\":\"itsct\"}' href=\"https://tv.apple.com/show/umc.cmc.4amwght1qtt8ioilwr0mgnf6d?itscg=10000&amp;itsct=atvapl_hppmo_wchTMYCS210520\" rel=\"follow\" target=\"_self\"> </a>,\n",
       " <a aria-label=\"Premiere: An Apple Original. Watch The Me You Can’t See now on the Apple TV app.\" class=\"icon icon-after icon-playsolid\" data-analytics-exit-link=\"\" data-analytics-region=\"learn more\" data-analytics-title=\"Premiere: An Apple Original. Watch The Me You Can’t See now on the Apple TV app.\" data-rid-relay='{\"289\":\"itsct\"}' href=\"https://tv.apple.com/show/umc.cmc.4amwght1qtt8ioilwr0mgnf6d?itscg=10000&amp;itsct=atvapl_hppmo_wchTMYCS210520\" rel=\"follow\" target=\"_self\">Watch now</a>,\n",
       " <a href=\"/promo/\">terms</a>,\n",
       " <a class=\"ac-gf-directory-column-section-anchor ac-gf-directory-column-section-anchor-open\" href=\"#ac-gf-directory-column-section-state-products\">\n",
       " <span class=\"ac-gf-directory-column-section-anchor-label\">Open Menu</span>\n",
       " </a>,\n",
       " <a class=\"ac-gf-directory-column-section-anchor ac-gf-directory-column-section-anchor-close\" href=\"#\">\n",
       " <span class=\"ac-gf-directory-column-section-anchor-label\">Close Menu</span>\n",
       " </a>,\n",
       " <a class=\"ac-gf-directory-column-section-link\" data-analytics-title=\"mac\" href=\"/mac/\">Mac</a>,\n",
       " <a class=\"ac-gf-directory-column-section-link\" data-analytics-title=\"ipad\" href=\"/ipad/\">iPad</a>,\n",
       " <a class=\"ac-gf-directory-column-section-link\" data-analytics-title=\"iphone\" href=\"/iphone/\">iPhone</a>,\n",
       " <a class=\"ac-gf-directory-column-section-link\" data-analytics-title=\"watch\" href=\"/watch/\">Watch</a>,\n",
       " <a class=\"ac-gf-directory-column-section-link\" data-analytics-title=\"tv\" href=\"/tv/\">TV</a>,\n",
       " <a class=\"ac-gf-directory-column-section-link\" data-analytics-title=\"music\" href=\"/music/\">Music</a>,\n",
       " <a class=\"ac-gf-directory-column-section-link\" data-analytics-title=\"airpods\" href=\"/airpods/\">AirPods</a>,\n",
       " <a class=\"ac-gf-directory-column-section-link\" data-analytics-title=\"homepod\" href=\"/homepod/\">HomePod</a>,\n",
       " <a class=\"ac-gf-directory-column-section-link\" data-analytics-title=\"ipod touch\" href=\"/ipod-touch/\">iPod touch</a>,\n",
       " <a class=\"ac-gf-directory-column-section-link\" data-analytics-title=\"airtag\" href=\"/airtag/\">AirTag</a>,\n",
       " <a class=\"ac-gf-directory-column-section-link\" data-analytics-title=\"accessories\" href=\"/us/shop/goto/buy_accessories\">Accessories</a>,\n",
       " <a class=\"ac-gf-directory-column-section-link\" data-analytics-title=\"gift cards\" href=\"/us/shop/goto/giftcards\">Gift Cards</a>,\n",
       " <a class=\"ac-gf-directory-column-section-anchor ac-gf-directory-column-section-anchor-open\" href=\"#ac-gf-directory-column-section-state-services\">\n",
       " <span class=\"ac-gf-directory-column-section-anchor-label\">Open Menu</span>\n",
       " </a>,\n",
       " <a class=\"ac-gf-directory-column-section-anchor ac-gf-directory-column-section-anchor-close\" href=\"#\">\n",
       " <span class=\"ac-gf-directory-column-section-anchor-label\">Close Menu</span>\n",
       " </a>,\n",
       " <a class=\"ac-gf-directory-column-section-link\" data-analytics-title=\"apple music\" href=\"/apple-music/\">Apple Music</a>,\n",
       " <a class=\"ac-gf-directory-column-section-link\" data-analytics-title=\"apple tv plus\" href=\"/apple-tv-plus/\">Apple TV+</a>,\n",
       " <a class=\"ac-gf-directory-column-section-link\" data-analytics-title=\"apple fitness plus\" href=\"/apple-fitness-plus/\">Apple Fitness+</a>,\n",
       " <a class=\"ac-gf-directory-column-section-link\" data-analytics-title=\"apple news plus\" href=\"/apple-news/\">Apple News+</a>,\n",
       " <a class=\"ac-gf-directory-column-section-link\" data-analytics-title=\"apple arcade\" href=\"/apple-arcade/\">Apple Arcade</a>,\n",
       " <a class=\"ac-gf-directory-column-section-link\" data-analytics-title=\"icloud\" href=\"/icloud/\">iCloud</a>,\n",
       " <a class=\"ac-gf-directory-column-section-link\" data-analytics-title=\"apple one\" href=\"/apple-one/\">Apple One</a>,\n",
       " <a class=\"ac-gf-directory-column-section-link\" data-analytics-title=\"apple card\" href=\"/apple-card/\">Apple Card</a>,\n",
       " <a class=\"ac-gf-directory-column-section-link\" data-analytics-title=\"apple books\" href=\"/apple-books/\">Apple Books</a>,\n",
       " <a class=\"ac-gf-directory-column-section-link\" data-analytics-title=\"app store\" href=\"/app-store/\">App Store</a>,\n",
       " <a class=\"ac-gf-directory-column-section-anchor ac-gf-directory-column-section-anchor-open\" href=\"#ac-gf-directory-column-section-state-accounts\">\n",
       " <span class=\"ac-gf-directory-column-section-anchor-label\">Open Menu</span>\n",
       " </a>,\n",
       " <a class=\"ac-gf-directory-column-section-anchor ac-gf-directory-column-section-anchor-close\" href=\"#\">\n",
       " <span class=\"ac-gf-directory-column-section-anchor-label\">Close Menu</span>\n",
       " </a>,\n",
       " <a class=\"ac-gf-directory-column-section-link\" data-analytics-exit-link=\"\" data-analytics-title=\"manage your apple id\" href=\"https://appleid.apple.com/us/\">Manage Your Apple ID</a>,\n",
       " <a class=\"ac-gf-directory-column-section-link\" data-analytics-title=\"apple store account\" href=\"/us/shop/goto/account\">Apple Store Account</a>,\n",
       " <a class=\"ac-gf-directory-column-section-link\" data-analytics-exit-link=\"\" data-analytics-title=\"icloud.com\" href=\"https://www.icloud.com\">iCloud.com</a>,\n",
       " <a class=\"ac-gf-directory-column-section-anchor ac-gf-directory-column-section-anchor-open\" href=\"#ac-gf-directory-column-section-state-storeservices\">\n",
       " <span class=\"ac-gf-directory-column-section-anchor-label\">Open Menu</span>\n",
       " </a>,\n",
       " <a class=\"ac-gf-directory-column-section-anchor ac-gf-directory-column-section-anchor-close\" href=\"#\">\n",
       " <span class=\"ac-gf-directory-column-section-anchor-label\">Close Menu</span>\n",
       " </a>,\n",
       " <a class=\"ac-gf-directory-column-section-link\" data-analytics-title=\"find a store\" href=\"/retail/\">Find a Store</a>,\n",
       " <a class=\"ac-gf-directory-column-section-link\" data-analytics-title=\"shop online\" href=\"/us/shop/goto/shop\">Shop Online</a>,\n",
       " <a class=\"ac-gf-directory-column-section-link\" data-analytics-title=\"genius bar\" href=\"/retail/geniusbar/\">Genius Bar</a>,\n",
       " <a class=\"ac-gf-directory-column-section-link\" data-analytics-title=\"today at apple\" href=\"/today/\">Today at Apple</a>,\n",
       " <a class=\"ac-gf-directory-column-section-link\" data-analytics-title=\"apple camp\" href=\"/today/camp/\">Apple Camp</a>,\n",
       " <a class=\"ac-gf-directory-column-section-link\" data-analytics-exit-link=\"\" data-analytics-title=\"apple store app\" href=\"https://apps.apple.com/us/app/apple-store/id375380948\">Apple Store App</a>,\n",
       " <a class=\"ac-gf-directory-column-section-link\" data-analytics-title=\"refurbished and clearance\" href=\"/us/shop/goto/special_deals\">Refurbished and Clearance</a>,\n",
       " <a class=\"ac-gf-directory-column-section-link\" data-analytics-title=\"financing\" href=\"/us/shop/goto/payment_plan\">Financing</a>,\n",
       " <a class=\"ac-gf-directory-column-section-link\" data-analytics-title=\"apple trade in\" href=\"/us/shop/goto/trade_in\">Apple Trade In</a>,\n",
       " <a class=\"ac-gf-directory-column-section-link\" data-analytics-title=\"order status\" href=\"/us/shop/goto/order/list\">Order Status</a>,\n",
       " <a class=\"ac-gf-directory-column-section-link\" data-analytics-title=\"shopping help\" href=\"/us/shop/goto/help\">Shopping Help</a>,\n",
       " <a class=\"ac-gf-directory-column-section-anchor ac-gf-directory-column-section-anchor-open\" href=\"#ac-gf-directory-column-section-state-business\">\n",
       " <span class=\"ac-gf-directory-column-section-anchor-label\">Open Menu</span>\n",
       " </a>,\n",
       " <a class=\"ac-gf-directory-column-section-anchor ac-gf-directory-column-section-anchor-close\" href=\"#\">\n",
       " <span class=\"ac-gf-directory-column-section-anchor-label\">Close Menu</span>\n",
       " </a>,\n",
       " <a class=\"ac-gf-directory-column-section-link\" data-analytics-title=\"apple and business\" href=\"/business/\">Apple and Business</a>,\n",
       " <a class=\"ac-gf-directory-column-section-link\" data-analytics-title=\"shop for business\" href=\"/retail/business/\">Shop for Business</a>,\n",
       " <a class=\"ac-gf-directory-column-section-anchor ac-gf-directory-column-section-anchor-open\" href=\"#ac-gf-directory-column-section-state-education\">\n",
       " <span class=\"ac-gf-directory-column-section-anchor-label\">Open Menu</span>\n",
       " </a>,\n",
       " <a class=\"ac-gf-directory-column-section-anchor ac-gf-directory-column-section-anchor-close\" href=\"#\">\n",
       " <span class=\"ac-gf-directory-column-section-anchor-label\">Close Menu</span>\n",
       " </a>,\n",
       " <a class=\"ac-gf-directory-column-section-link\" data-analytics-title=\"apple and education\" href=\"/education/\">Apple and Education</a>,\n",
       " <a class=\"ac-gf-directory-column-section-link\" data-analytics-title=\"shop for k12\" href=\"/education/k12/how-to-buy/\">Shop for K-12</a>,\n",
       " <a class=\"ac-gf-directory-column-section-link\" data-analytics-title=\"shop for college\" href=\"/us/shop/goto/educationrouting\">Shop for College</a>,\n",
       " <a class=\"ac-gf-directory-column-section-anchor ac-gf-directory-column-section-anchor-open\" href=\"#ac-gf-directory-column-section-state-healthcare\">\n",
       " <span class=\"ac-gf-directory-column-section-anchor-label\">Open Menu</span>\n",
       " </a>,\n",
       " <a class=\"ac-gf-directory-column-section-anchor ac-gf-directory-column-section-anchor-close\" href=\"#\">\n",
       " <span class=\"ac-gf-directory-column-section-anchor-label\">Close Menu</span>\n",
       " </a>,\n",
       " <a class=\"ac-gf-directory-column-section-link\" data-analytics-title=\"apple in healthcare\" href=\"/healthcare/\">Apple in Healthcare</a>,\n",
       " <a class=\"ac-gf-directory-column-section-link\" data-analytics-title=\"health on apple watch\" href=\"/healthcare/apple-watch/\">Health on Apple Watch</a>,\n",
       " <a class=\"ac-gf-directory-column-section-link\" data-analytics-title=\"health records on iphone\" href=\"/healthcare/health-records/\">Health Records on iPhone</a>,\n",
       " <a class=\"ac-gf-directory-column-section-anchor ac-gf-directory-column-section-anchor-open\" href=\"#ac-gf-directory-column-section-state-government\">\n",
       " <span class=\"ac-gf-directory-column-section-anchor-label\">Open Menu</span>\n",
       " </a>,\n",
       " <a class=\"ac-gf-directory-column-section-anchor ac-gf-directory-column-section-anchor-close\" href=\"#\">\n",
       " <span class=\"ac-gf-directory-column-section-anchor-label\">Close Menu</span>\n",
       " </a>,\n",
       " <a class=\"ac-gf-directory-column-section-link\" data-analytics-title=\"shop for government\" href=\"/r/store/government/\">Shop for Government</a>,\n",
       " <a class=\"ac-gf-directory-column-section-link\" data-analytics-title=\"shop for veterans and military\" href=\"/us/shop/goto/eppstore/veteransandmilitary\">Shop for Veterans and Military</a>,\n",
       " <a class=\"ac-gf-directory-column-section-anchor ac-gf-directory-column-section-anchor-open\" href=\"#ac-gf-directory-column-section-state-responsibility\">\n",
       " <span class=\"ac-gf-directory-column-section-anchor-label\">Open Menu</span>\n",
       " </a>,\n",
       " <a class=\"ac-gf-directory-column-section-anchor ac-gf-directory-column-section-anchor-close\" href=\"#\">\n",
       " <span class=\"ac-gf-directory-column-section-anchor-label\">Close Menu</span>\n",
       " </a>,\n",
       " <a class=\"ac-gf-directory-column-section-link\" data-analytics-title=\"accessibility\" href=\"/accessibility/\">Accessibility</a>,\n",
       " <a class=\"ac-gf-directory-column-section-link\" data-analytics-title=\"education\" href=\"/education/connectED/\">Education</a>,\n",
       " <a class=\"ac-gf-directory-column-section-link\" data-analytics-title=\"environment\" href=\"/environment/\">Environment</a>,\n",
       " <a class=\"ac-gf-directory-column-section-link\" data-analytics-title=\"inclusion and diversity\" href=\"/diversity/\">Inclusion and Diversity</a>,\n",
       " <a class=\"ac-gf-directory-column-section-link\" data-analytics-title=\"privacy\" href=\"/privacy/\">Privacy</a>,\n",
       " <a class=\"ac-gf-directory-column-section-link\" data-analytics-title=\"racial equity and justice\" href=\"/racial-equity-justice-initiative/\">Racial Equity and Justice</a>,\n",
       " <a class=\"ac-gf-directory-column-section-link\" data-analytics-title=\"supplier responsibility\" href=\"/supplier-responsibility/\">Supplier Responsibility</a>,\n",
       " <a class=\"ac-gf-directory-column-section-anchor ac-gf-directory-column-section-anchor-open\" href=\"#ac-gf-directory-column-section-state-about\">\n",
       " <span class=\"ac-gf-directory-column-section-anchor-label\">Open Menu</span>\n",
       " </a>,\n",
       " <a class=\"ac-gf-directory-column-section-anchor ac-gf-directory-column-section-anchor-close\" href=\"#\">\n",
       " <span class=\"ac-gf-directory-column-section-anchor-label\">Close Menu</span>\n",
       " </a>,\n",
       " <a class=\"ac-gf-directory-column-section-link\" data-analytics-title=\"newsroom\" href=\"/newsroom/\">Newsroom</a>,\n",
       " <a class=\"ac-gf-directory-column-section-link\" data-analytics-title=\"apple leadership\" href=\"/leadership/\">Apple Leadership</a>,\n",
       " <a class=\"ac-gf-directory-column-section-link\" data-analytics-title=\"career opportunities\" href=\"/careers/us/\">Career Opportunities</a>,\n",
       " <a class=\"ac-gf-directory-column-section-link\" data-analytics-exit-link=\"\" data-analytics-title=\"investors\" href=\"https://investor.apple.com/\">Investors</a>,\n",
       " <a class=\"ac-gf-directory-column-section-link\" data-analytics-title=\"ethics and compliance\" href=\"/compliance/\">Ethics &amp; Compliance</a>,\n",
       " <a class=\"ac-gf-directory-column-section-link\" data-analytics-title=\"events\" href=\"/apple-events/\">Events</a>,\n",
       " <a class=\"ac-gf-directory-column-section-link\" data-analytics-title=\"contact apple\" href=\"/contact/\">Contact Apple</a>,\n",
       " <a data-analytics-title=\"find an apple store\" href=\"/retail/\">Find an Apple Store</a>,\n",
       " <a data-analytics-exit-link=\"\" data-analytics-title=\"other retailers or resellers\" href=\"https://locate.apple.com/\">other retailer</a>,\n",
       " <a aria-label=\"United States. Choose your country or region\" class=\"ac-gf-footer-locale-link\" data-analytics-title=\"choose your country\" href=\"/choose-country-region/\" title=\"Choose your country or region\">United States</a>,\n",
       " <a class=\"ac-gf-footer-legal-link\" data-analytics-title=\"privacy policy\" href=\"/legal/privacy/\">Privacy Policy</a>,\n",
       " <a class=\"ac-gf-footer-legal-link\" data-analytics-title=\"terms of use\" href=\"/legal/internet-services/terms/site.html\">Terms of Use</a>,\n",
       " <a class=\"ac-gf-footer-legal-link\" data-analytics-title=\"sales and refunds\" href=\"/us/shop/goto/help/sales_refunds\">Sales and Refunds</a>,\n",
       " <a class=\"ac-gf-footer-legal-link\" data-analytics-title=\"legal\" href=\"/legal/\">Legal</a>,\n",
       " <a class=\"ac-gf-footer-legal-link\" data-analytics-title=\"site map\" href=\"/sitemap/\">Site Map</a>]"
      ]
     },
     "execution_count": 13,
     "metadata": {},
     "output_type": "execute_result"
    }
   ],
   "source": [
    "def scrape_links(url):\n",
    "    response = requests.get(url)\n",
    "    soup = BeautifulSoup(response.text)\n",
    "    a_tags = soup.find_all('a')\n",
    "    print(f'There are {len(a_tags)} a tags in the {url} link')\n",
    "    return a_tags\n",
    "\n",
    "scrape_links(url)"
   ]
  },
  {
   "cell_type": "markdown",
   "metadata": {},
   "source": [
    "# Exercise 6\n",
    "\n",
    "Create a generator function that takes an argument `n` (total number of squares to generator) returns the next square each time it yields a value. Demonstrate that it works."
   ]
  },
  {
   "cell_type": "code",
   "execution_count": 19,
   "metadata": {},
   "outputs": [],
   "source": [
    "def square_generator(n):\n",
    "    for i in range(n):\n",
    "        yield i**2\n",
    "        \n",
    "gen = square_generator(10)"
   ]
  },
  {
   "cell_type": "code",
   "execution_count": 28,
   "metadata": {},
   "outputs": [
    {
     "data": {
      "text/plain": [
       "49"
      ]
     },
     "execution_count": 28,
     "metadata": {},
     "output_type": "execute_result"
    }
   ],
   "source": [
    "next(gen)"
   ]
  },
  {
   "cell_type": "markdown",
   "metadata": {},
   "source": [
    "# Exercise 7\n",
    "\n",
    "Look up a standard library module you've never used. Create a function that utilizes that library."
   ]
  },
  {
   "cell_type": "code",
   "execution_count": 28,
   "metadata": {},
   "outputs": [
    {
     "data": {
      "text/plain": [
       "'RxF7tgDcAg'"
      ]
     },
     "execution_count": 28,
     "metadata": {},
     "output_type": "execute_result"
    }
   ],
   "source": [
    "#Return a randomly-chosen element from a non-empty sequence\n",
    "\n",
    "import string\n",
    "import secrets\n",
    "\n",
    "def secret_letter():\n",
    "    alphabet = string.ascii_letters + string.digits\n",
    "    letter = secrets.choice(alphabet)\n",
    "    return letter\n",
    "\n",
    "length = 10\n",
    "\n",
    "def password_generator(length=5):\n",
    "    password = ''.join(secret_letter() for i in range(length))\n",
    "    return password\n",
    "\n",
    "password_generator(length)"
   ]
  },
  {
   "cell_type": "markdown",
   "metadata": {},
   "source": [
    "# Exercise 8\n",
    "\n",
    "Create a binary tree from scratch. It must have two methods, one that prints the tree and another that allows inserting. Inserting into this binary tree can be done using the method we covered in class (adding it to the left or right of nodes depending on comparisons)."
   ]
  },
  {
   "cell_type": "code",
   "execution_count": 30,
   "metadata": {},
   "outputs": [
    {
     "name": "stdout",
     "output_type": "stream",
     "text": [
      "5\n",
      "left\n",
      "3\n",
      "right\n",
      "6\n",
      "right\n",
      "9\n"
     ]
    }
   ],
   "source": [
    "class BinaryTree:\n",
    "    def __init__(self, data):\n",
    "        self.left = None\n",
    "        self.right = None\n",
    "        self.data = data\n",
    "        \n",
    "    def insert(self, data):\n",
    "        if self.data:\n",
    "            if data < self.data:\n",
    "                if self.left is None:\n",
    "                    self.left = BinaryTree(data)\n",
    "                else:\n",
    "                    self.left.insert(data)\n",
    "            elif data > self.data:\n",
    "                if self.right is None:\n",
    "                    self.right = BinaryTree(data)\n",
    "                else:\n",
    "                    self.right.insert(data)\n",
    "        else:\n",
    "            self.data = data\n",
    "            \n",
    "    def print(self):\n",
    "        print(self.data)\n",
    "        if self.left:\n",
    "            print('left')\n",
    "            self.left.print()\n",
    "        if self.right:\n",
    "            print('right')\n",
    "            self.right.print()\n",
    "            \n",
    "tree = BinaryTree(5)\n",
    "tree.insert(6)\n",
    "tree.insert(3)\n",
    "tree.insert(9)\n",
    "\n",
    "tree.print()"
   ]
  },
  {
   "cell_type": "markdown",
   "metadata": {},
   "source": [
    "# Exercise 9\n",
    "\n",
    "Create a decorator function that times a function call. Use it to time the function below."
   ]
  },
  {
   "cell_type": "code",
   "execution_count": 46,
   "metadata": {},
   "outputs": [],
   "source": [
    "from time import time\n",
    "  \n",
    "def timer_func(func):\n",
    "    # This function shows the execution time of \n",
    "    # the function object passed\n",
    "    def wrap_func(*args, **kwargs):\n",
    "        t1 = time()\n",
    "        result = func(*args, **kwargs)\n",
    "        t2 = time()\n",
    "        print(f'Function {func.__name__} executed in {(t2-t1):.8f}s')\n",
    "        print(f'{t2-t1}')\n",
    "        return result\n",
    "    return wrap_func"
   ]
  },
  {
   "cell_type": "code",
   "execution_count": 47,
   "metadata": {},
   "outputs": [
    {
     "name": "stdout",
     "output_type": "stream",
     "text": [
      "Function func executed in 0.00000095s\n",
      "9.5367431640625e-07\n"
     ]
    },
    {
     "data": {
      "text/plain": [
       "100000000"
      ]
     },
     "execution_count": 47,
     "metadata": {},
     "output_type": "execute_result"
    }
   ],
   "source": [
    "@timer_func\n",
    "def func(n):\n",
    "    return (n**2)\n",
    "\n",
    "func(10000)"
   ]
  },
  {
   "cell_type": "markdown",
   "metadata": {},
   "source": [
    "# Exercise 10\n",
    "\n",
    "Show an example of currying functions: two regular functions and a third that uses the previous two."
   ]
  },
  {
   "cell_type": "code",
   "execution_count": 6,
   "metadata": {},
   "outputs": [
    {
     "data": {
      "text/plain": [
       "['hello', 'world']"
      ]
     },
     "execution_count": 6,
     "metadata": {},
     "output_type": "execute_result"
    }
   ],
   "source": [
    "def capitalize(string):\n",
    "    return string.upper()\n",
    "\n",
    "def split(string):\n",
    "    return string.split(' ')\n",
    "\n",
    "capitalize('hello world')\n",
    "split('hello world')"
   ]
  },
  {
   "cell_type": "code",
   "execution_count": 11,
   "metadata": {},
   "outputs": [
    {
     "data": {
      "text/plain": [
       "'HELLO'"
      ]
     },
     "execution_count": 11,
     "metadata": {},
     "output_type": "execute_result"
    }
   ],
   "source": [
    "def first_capitalized_word(string):\n",
    "    lst= split(capitalize(string))\n",
    "    return lst[0]\n",
    "first_capitalized_word('hello world')"
   ]
  },
  {
   "cell_type": "markdown",
   "metadata": {},
   "source": [
    "# Exercise 11\n",
    "\n",
    "What is a downside to functional programming? Explain your answer.\n",
    "\n",
    "If this question is difficult, consider what we can do with methods of a class that isn't easily possible with functions."
   ]
  },
  {
   "cell_type": "markdown",
   "metadata": {},
   "source": [
    "With functional programming we have to pass all the required variables over and over again in between functions to perform the steps. If it's a class we can define the attribute in the init and then just define the attribute once, if we use self we can use all the attributes previously defined. For functional programming if we want a variable to be accessible for all the functions, we must declare a global variable that could be rewritting by mistake somewhere else. In classes the attributes only get declared once and if we want to change them we must make a method to do so. Thus, they are together with the code that belongs with it and are harder to overwrite by mistake. "
   ]
  },
  {
   "cell_type": "markdown",
   "metadata": {},
   "source": [
    "# Exercise 12\n",
    "\n",
    "Explain how `staticmethod` works and when we should use it."
   ]
  },
  {
   "cell_type": "markdown",
   "metadata": {},
   "source": [
    "A static method is a class method that will change the blueprint of the class: you can change class attributes in a function that it's wrapped in a static mehtod decorator"
   ]
  },
  {
   "cell_type": "markdown",
   "metadata": {},
   "source": [
    "Any method that deals with the class itself/directly and takes class as an argument. A secondary way to create an instance of our class. so we can do things with our class. "
   ]
  },
  {
   "cell_type": "markdown",
   "metadata": {},
   "source": [
    "# Exercise 13\n",
    "\n",
    "Your boss has tasked you with making a simple bokeh dashboard to display some data. What python web framework would you use and why? What are the limitations of that framework? What does it provide as benefits? Explain your thought process."
   ]
  },
  {
   "cell_type": "markdown",
   "metadata": {},
   "source": [
    "For the framework I would use django. Django allows to display interactive charts in any view by adding the javascript links in the head of the base.html. All we have to do is: Jango provides user panel for authentication. \n",
    "1. Add js links to the 'head' of the base.html file\n",
    "2. Create a script that created the figure\n",
    "3. Import the script in the views.py file\n",
    "4. Create a view that uses that script and splits it using the components method from bokeh.\n",
    "5. Create a url for that view\n",
    "6. Create an html that inherits from base.html and displays the two figure components. "
   ]
  },
  {
   "cell_type": "markdown",
   "metadata": {},
   "source": [
    "Flask is a simple application like we don't need user authentication. Just to show the functionally of the chart. "
   ]
  },
  {
   "cell_type": "markdown",
   "metadata": {},
   "source": [
    "# Exercise 14\n",
    "\n",
    "What would be a reason to not use python for a project?"
   ]
  },
  {
   "cell_type": "markdown",
   "metadata": {},
   "source": [
    "If you want your project to be faster you might want to use a lower level language such as java, C++ or C# as I believe these languages although they might require more code, they are faster to run. I have also heard python is harder to hangle in larger projects and it's more prone to bugs "
   ]
  },
  {
   "cell_type": "markdown",
   "metadata": {},
   "source": [
    "# Exercise 15\n",
    "\n",
    "You are tasked with building a data pipeline that scrapes data, stores it in sql, processes it in numpy/pandas (think exploratory analysis and data cleanup) and uses the data in a K-Means clustering. Write out the steps you would take to complete this task, what the structure of your project would look like and what considerations should be made (e.g. what might become an issue, what decisions must we make, what steps would need to be done first, etc). \n",
    "\n"
   ]
  },
  {
   "cell_type": "markdown",
   "metadata": {},
   "source": [
    "1. I would create a flask application with the following structure.\n",
    "\n",
    "```\n",
    "flask_app\n",
    "├── env\n",
    "│\n",
    "│\n",
    "├── static\n",
    "│   ├── style.css\n",
    "│   └── math.py\n",
    "│\n",
    "├── templates\n",
    "│   ├── base.html\n",
    "│   └── index.html\n",
    "│\n",
    "├── app.py\n",
    "│   \n",
    "├── scraper.py\n",
    "│\n",
    "├── import_script.py\n",
    "│\n",
    "├── ml.py│\n",
    "│\n",
    "│\n",
    "└── requirements.txt\n",
    "\n",
    "```\n",
    "2. The env and requirements.txt is very important because it allows us to download the libraries once and next time just activate the enviroment. \n",
    "3. Create a script that scrapes the data and returns the cleaned list with each sublist as the next row (scraper.py)\n",
    "4. In the app.py I would create a class that uses SQLAlchemy that would be the structure for the tables in the dataframe \n",
    "5. In import_script.py, I would parse to the scraped data and add each sublist to the table. \n",
    "6. Finally I would parse that data in ml.py using numpy, sklearn library to built a machine learning model.\n",
    "7. Once the model it's built I could display the results in a view declared in app.py and created the template for the view using the @route\n"
   ]
  },
  {
   "cell_type": "code",
   "execution_count": null,
   "metadata": {},
   "outputs": [],
   "source": []
  }
 ],
 "metadata": {
  "kernelspec": {
   "display_name": "Python 3",
   "language": "python",
   "name": "python3"
  },
  "language_info": {
   "codemirror_mode": {
    "name": "ipython",
    "version": 3
   },
   "file_extension": ".py",
   "mimetype": "text/x-python",
   "name": "python",
   "nbconvert_exporter": "python",
   "pygments_lexer": "ipython3",
   "version": "3.8.3"
  }
 },
 "nbformat": 4,
 "nbformat_minor": 5
}
